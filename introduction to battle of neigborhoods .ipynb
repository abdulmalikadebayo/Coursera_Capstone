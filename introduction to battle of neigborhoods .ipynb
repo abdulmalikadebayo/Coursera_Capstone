{
    "cells": [
        {
            "metadata": {
                "collapsed": true
            },
            "cell_type": "markdown",
            "source": "\n    \n # Analyzing neigborhoods Toronto, Canada to determine the best location to open a restaurant \n \n"
        },
        {
            "metadata": {},
            "cell_type": "markdown",
            "source": " ### In this notebook we will be exploring City of toronto for new restaurants.\n \n\n\n## Introduction\n"
        },
        {
            "metadata": {},
            "cell_type": "markdown",
            "source": "Toronto, the capital of the province of Ontario, is the most populous Canadian city. Its diversity is reflected in Toronto\u2019s ethnic neighborhoods such as Chinatown, Corso Italia, Greektown, Kensington Market, Koreatown, Little India, Little Italy, Little Jamaica, Little Portugal & Roncesvalles. In this project we will go through step by step process to make a decision on the best location to open a restaurant in toronto. We analyze the neighborhoods in Toronto to identify the most profitable area since the success of the restaurant depends on the people and ambience. Since we already know that Toronto is the finacial capital of Canada, it is a good idea to start the restaurant here, but we just need to make sure it is a profitable idea. If so, where we can place it, so it yields more profit to the owner."
        },
        {
            "metadata": {},
            "cell_type": "markdown",
            "source": "# Target Audience\n### Who will be more interested in this project? What type of clients or a group of people would be benefitted?"
        },
        {
            "metadata": {},
            "cell_type": "markdown",
            "source": "* Business personnel who wants to invest or open a restaurant in Toronto. This analysis will be a comprehensive guide to start or expand restaurants targeting the population in toronto.\n+ Freelancer who loves to have their own restaurant as a side business. This analysis will give an idea, how beneficial it is to open a restaurant and what are the pros and cons of this business.\n+ Business Analyst or Data Scientists, who wish to analyze the neighborhoods of Toronto using Exploratory Data Analysis and other statistical & machine learning techniques to obtain all the necessary data, perform some operations on it and, finally be able to tell a story out of it."
        },
        {
            "metadata": {},
            "cell_type": "markdown",
            "source": "\n    \n## Business Problem\n"
        },
        {
            "metadata": {},
            "cell_type": "markdown",
            "source": "Toronto is the provincial capital of Ontario and the most populous city in Canada, with a population of 2,731,571 in 2016. Current to 2016, the Toronto census metropolitan area (CMA), of which the majority is within the Greater Toronto Area (GTA), held a population of 5,928,040, making it Canada's most populous CMA. Toronto is the fastest growing city in North America. and is the anchor of an urban agglomeration, known as the Golden Horseshoe in Southern Ontario, located on the northwestern shore of Lake Ontario.\n\n\nToronto encompasses a geographical area formerly administered by many separate municipalities. These municipalities have each developed a distinct history and identity over the years, and their names remain in common use among Torontonians. Former municipalities include East York, Etobicoke, Forest Hill, Mimico, North York, Parkdale, Scarborough, Swansea, Weston and York. Throughout the city there exist hundreds of small neighbourhoods and some larger neighbourhoods covering a few square kilometres.\n\n\nHaving such vast population and big geographical area, there also exists big competition between businesses. Therefore it became very challenging for stake holder or new business to decide which area they should start their business to get higher revenue with lowest possible competition.\n\nThis project tries to solve the above problem by suggesting to the target Audience the best localion to open new restaurants and gaining maximum profits in Toronto.\n"
        },
        {
            "metadata": {},
            "cell_type": "markdown",
            "source": "# Data description"
        },
        {
            "metadata": {},
            "cell_type": "markdown",
            "source": "### Data Sources\n+ I\u2019ll be using \u201cList of Postal code of Canada: M\u201d (https://en.wikipedia.org/wiki/List_of_postal_codes_of_Canada:_M) wiki page to get all the information about the neighborhoods present in Toronto. This page has the postal code, borough & the name of all the neighborhoods present in Toronto.\n+ Then I\u2019m using \u201chttps://cocl.us/Geospatial_data\u201d csv file to get all the geographical coordinates of the neighborhoods.\n+ To get location and other information about various venues in Toronto I\u2019m using Foursquare\u2019s explore API. Using the Foursquare\u2019s explore API (which gives venues recommendations), I\u2019m fetching details about the venues up present in Toronto and collected their names, categories and locations (latitude and longitude).\n\nFrom Foursquare API (https://developer.foursquare.com/docs), I will retrieve the following for each venue:\n\nName: The name of the venue.\nCategory: The category type as defined by the API.\nLatitude: The latitude value of the venue.\nLongitude: The longitude value of the venue."
        },
        {
            "metadata": {},
            "cell_type": "code",
            "source": "",
            "execution_count": null,
            "outputs": []
        }
    ],
    "metadata": {
        "kernelspec": {
            "name": "python3",
            "display_name": "Python 3.6",
            "language": "python"
        },
        "language_info": {
            "name": "python",
            "version": "3.6.9",
            "mimetype": "text/x-python",
            "codemirror_mode": {
                "name": "ipython",
                "version": 3
            },
            "pygments_lexer": "ipython3",
            "nbconvert_exporter": "python",
            "file_extension": ".py"
        }
    },
    "nbformat": 4,
    "nbformat_minor": 1
}